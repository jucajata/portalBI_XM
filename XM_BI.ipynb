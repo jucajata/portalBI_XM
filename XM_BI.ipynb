{
 "cells": [
  {
   "cell_type": "markdown",
   "metadata": {},
   "source": [
    "# Descargas portal BI XM"
   ]
  },
  {
   "cell_type": "markdown",
   "metadata": {},
   "source": [
    "## 1) Identificación de fecha"
   ]
  },
  {
   "cell_type": "markdown",
   "metadata": {},
   "source": [
    "Importamos la librería date y datetime"
   ]
  },
  {
   "cell_type": "code",
   "execution_count": 1,
   "metadata": {},
   "outputs": [],
   "source": [
    "from datetime import date\n",
    "from datetime import datetime"
   ]
  },
  {
   "cell_type": "markdown",
   "metadata": {},
   "source": [
    "Identificamos la fecha de hoy"
   ]
  },
  {
   "cell_type": "code",
   "execution_count": 2,
   "metadata": {
    "scrolled": false
   },
   "outputs": [
    {
     "name": "stdout",
     "output_type": "stream",
     "text": [
      "Fecha: 07-09-2021/ 14:20 / trim:3 / sem:2 \n"
     ]
    }
   ],
   "source": [
    "#now\n",
    "now = datetime.now()\n",
    "year = now.strftime('%Y')\n",
    "month = now.strftime('%m')\n",
    "day = now.strftime('%d')\n",
    "hour = now.strftime('%H')\n",
    "minute = now.strftime('%M')\n",
    "clockstr = now.strftime('%H:%M')\n",
    "clock = now.strptime(clockstr,'%H:%M')\n",
    "g = \"_\"\n",
    "\n",
    "#trim & seme\n",
    "m = int(month)\n",
    "if m >= 1 and m <=3:\n",
    "    trim = \"1\"\n",
    "    seme = \"1\"\n",
    "elif m >= 4 and m <=6:\n",
    "    trim = \"2\"\n",
    "    seme = \"1\"\n",
    "elif m >= 7 and m <=9:\n",
    "    trim = \"3\"\n",
    "    seme = \"2\"\n",
    "else:\n",
    "    trim = \"4\"\n",
    "    seme = \"2\"\n",
    "\n",
    "print(f\"Fecha: {day}-{month}-{year}/ {clockstr} / trim:{trim} / sem:{seme} \")"
   ]
  },
  {
   "cell_type": "markdown",
   "metadata": {},
   "source": [
    "## 2) Descarga de archivos de datos"
   ]
  },
  {
   "cell_type": "markdown",
   "metadata": {},
   "source": [
    "Diccionario con nombres preliminares"
   ]
  },
  {
   "cell_type": "code",
   "execution_count": 3,
   "metadata": {
    "scrolled": true
   },
   "outputs": [
    {
     "name": "stdout",
     "output_type": "stream",
     "text": [
      "Nombres de archivos preliminares:\n",
      "1 - Generación --> Generacion_(kWh)_2021.xlsx\n",
      "2 - Intercambio con Ecuador --> Exportacion_Importacion_Ecuador_2021.xlsx\n",
      "3 - Intercambio con Venezuela --> Exportacion_Importacion_Venezuela_2021.xlsx\n",
      "4 - Consumo de combustible --> Consumo_De_Combustible_(MBTU)_2021.xlsx\n",
      "5 - Demanda Comercial --> Demanda_Comercial_(kWh)_SEME2_2021.xlsx\n",
      "6 - Aportes Diarios --> Aportes_Diario_2021.xlsx\n",
      "7 - Demanda SIN --> Demanda_Energia_SIN.xls\n",
      "8 - Precio de Bolsa --> Precio_Bolsa_Nacional_($kwh).xls\n",
      "9 - Reservas Diario --> Reservas_Diario_2021.xlsx\n",
      "10 - Generación Seguridad --> Generacion_de_Seguridad_(kWh).xlsx\n",
      "11 - Vertimientos Diario --> Vertimentos_Diario_2021.xls\n"
     ]
    }
   ],
   "source": [
    "pre_names = {\n",
    "    \"Generación\":\"Generacion_(kWh)_\" + year + \".xlsx\",\n",
    "    \"Intercambio con Ecuador\":\"Exportacion_Importacion_Ecuador\" + g + year + \".xlsx\",\n",
    "    \"Intercambio con Venezuela\":\"Exportacion_Importacion_Venezuela\" + g + year + \".xlsx\",\n",
    "    \"Consumo de combustible\":\"Consumo_De_Combustible_(MBTU)\" + g + year + \".xlsx\",\n",
    "    \"Demanda Comercial\":\"Demanda_Comercial_(kWh)\" + g + \"SEME\" + seme + g + year + \".xlsx\",\n",
    "    \"Aportes Diarios\":\"Aportes_Diario\" + g + year + \".xlsx\",\n",
    "    \"Demanda SIN\":\"Demanda_Energia_SIN.xls\",\n",
    "    \"Precio de Bolsa\":\"Precio_Bolsa_Nacional_($kwh).xls\",\n",
    "    \"Reservas Diario\":\"Reservas_Diario\" + g + year + \".xlsx\",\n",
    "    \"Generación Seguridad\":\"Generacion_de_Seguridad_(kWh).xlsx\",\n",
    "    \"Vertimientos Diario\":\"Vertimentos_Diario\" + g + year + \".xls\"\n",
    "}\n",
    "i = 1\n",
    "print(\"Nombres de archivos preliminares:\")\n",
    "for pre_name in pre_names:\n",
    "    print(f\"{i} - {pre_name} --> {pre_names[pre_name]}\")\n",
    "    i += 1"
   ]
  },
  {
   "cell_type": "markdown",
   "metadata": {},
   "source": [
    "Importamos la librería requests"
   ]
  },
  {
   "cell_type": "code",
   "execution_count": 4,
   "metadata": {},
   "outputs": [],
   "source": [
    "import requests"
   ]
  },
  {
   "cell_type": "markdown",
   "metadata": {},
   "source": [
    "Link general del portalBI"
   ]
  },
  {
   "cell_type": "code",
   "execution_count": 5,
   "metadata": {},
   "outputs": [],
   "source": [
    "linkbi = \"http://portalbissrs.xm.com.co/\""
   ]
  },
  {
   "cell_type": "markdown",
   "metadata": {},
   "source": [
    "Diccionario con links de descarga"
   ]
  },
  {
   "cell_type": "code",
   "execution_count": 6,
   "metadata": {
    "scrolled": true
   },
   "outputs": [
    {
     "name": "stdout",
     "output_type": "stream",
     "text": [
      "Nombres de links de descarga:\n",
      "1 - Generación --> http://portalbissrs.xm.com.co/oferta/Histricos/Generacion_(kWh)_2021.xlsx\n",
      "2 - Intercambio con Ecuador --> http://portalbissrs.xm.com.co/dmnd/Histricos/Exportacion_Importacion_Ecuador_2021.xlsx\n",
      "3 - Intercambio con Venezuela --> http://portalbissrs.xm.com.co/dmnd/Histricos/Exportacion_Importacion_Venezuela_2021.xlsx\n",
      "4 - Consumo de combustible --> http://portalbissrs.xm.com.co/oferta/Histricos/Consumo_De_Combustible_(MBTU)_2021.xlsx\n",
      "5 - Demanda Comercial --> http://portalbissrs.xm.com.co/dmnd/Histricos/Demanda_Comercial_Por_Comercializador_SEME2_2021.xlsx\n",
      "6 - Aportes Diarios --> http://portalbissrs.xm.com.co/hdrlg/Histricos/Aportes_Diario_2021.xlsx\n",
      "7 - Demanda SIN --> http://portalbissrs.xm.com.co/dmnd/Histricos/Demanda_Energia_SIN_2021.xlsx\n",
      "8 - Precio de Bolsa --> http://portalbissrs.xm.com.co/trpr/Histricos/Precio_Bolsa_Nacional_(%24kwh)_2021.xlsx\n",
      "9 - Reservas Diario --> http://portalbissrs.xm.com.co/hdrlg/Histricos/Reservas_Diario_2021.xlsx\n",
      "10 - Generación Seguridad --> http://portalbissrs.xm.com.co/oferta/Histricos/Generacion_de_Seguridad_(kWh)_2021.xlsx\n",
      "11 - Vertimientos Diario --> http://portalbissrs.xm.com.co/hdrlg/Histricos/Vertimentos_Diario_2021.xlsx\n"
     ]
    }
   ],
   "source": [
    "links = {\n",
    "    \"Generación\":linkbi + \"oferta/Histricos/Generacion_(kWh)_\"+ year + \".xlsx\",\n",
    "    \"Intercambio con Ecuador\":linkbi + \"dmnd/Histricos/Exportacion_Importacion_Ecuador\" + g + year + \".xlsx\",\n",
    "    \"Intercambio con Venezuela\":linkbi + \"dmnd/Histricos/Exportacion_Importacion_Venezuela\" + g + year + \".xlsx\",\n",
    "    \"Consumo de combustible\":linkbi + \"oferta/Histricos/Consumo_De_Combustible_(MBTU)\" + g + year + \".xlsx\",\n",
    "    \"Demanda Comercial\":linkbi + \"dmnd/Histricos/Demanda_Comercial_Por_Comercializador_SEME\" + seme + g + year + \".xlsx\",\n",
    "    \"Aportes Diarios\":linkbi + \"hdrlg/Histricos/Aportes_Diario\" + g + year + \".xlsx\",\n",
    "    \"Demanda SIN\":linkbi + \"dmnd/Histricos/Demanda_Energia_SIN\" + g + year + \".xlsx\",\n",
    "    \"Precio de Bolsa\":linkbi + \"trpr/Histricos/Precio_Bolsa_Nacional_(%24kwh)\" + g + year + \".xlsx\",\n",
    "    \"Reservas Diario\":linkbi + \"hdrlg/Histricos/Reservas_Diario\" + g + year + \".xlsx\",\n",
    "    \"Generación Seguridad\":linkbi + \"oferta/Histricos/Generacion_de_Seguridad_(kWh)\" + g + year + \".xlsx\",\n",
    "    \"Vertimientos Diario\":linkbi + \"hdrlg/Histricos/Vertimentos_Diario\" + g + year + \".xlsx\"\n",
    "}\n",
    "i = 1\n",
    "print(\"Nombres de links de descarga:\")\n",
    "for link in links:\n",
    "    print(f\"{i} - {link} --> {links[link]}\")\n",
    "    i += 1\n"
   ]
  },
  {
   "cell_type": "markdown",
   "metadata": {},
   "source": [
    "Definimos la función de descarga"
   ]
  },
  {
   "cell_type": "code",
   "execution_count": 7,
   "metadata": {},
   "outputs": [],
   "source": [
    "def descarga(link,file):\n",
    "    resp = requests.get(link)\n",
    "    output = open(file, 'wb')\n",
    "    output.write(resp.content)\n",
    "    output.close()\n",
    "    print(\"Archivo descargado:\",file)"
   ]
  },
  {
   "cell_type": "markdown",
   "metadata": {},
   "source": [
    "Creamos una lista de tuplas con los valores de los links y los nombres preliminares (usamos una list comprehension):"
   ]
  },
  {
   "cell_type": "code",
   "execution_count": 8,
   "metadata": {},
   "outputs": [],
   "source": [
    "links_pre_names = [(k, links[k], v) for k, v in pre_names.items()]"
   ]
  },
  {
   "cell_type": "markdown",
   "metadata": {},
   "source": [
    "Iteramos sobre la lista de tuplas y descargamos cada archivo:"
   ]
  },
  {
   "cell_type": "code",
   "execution_count": 9,
   "metadata": {
    "scrolled": false
   },
   "outputs": [
    {
     "name": "stdout",
     "output_type": "stream",
     "text": [
      "Archivo descargado: Generacion_(kWh)_2021.xlsx\n",
      "Archivo descargado: Exportacion_Importacion_Ecuador_2021.xlsx\n",
      "Archivo descargado: Exportacion_Importacion_Venezuela_2021.xlsx\n",
      "Archivo descargado: Consumo_De_Combustible_(MBTU)_2021.xlsx\n",
      "Archivo descargado: Demanda_Comercial_(kWh)_SEME2_2021.xlsx\n",
      "Archivo descargado: Aportes_Diario_2021.xlsx\n",
      "Archivo descargado: Demanda_Energia_SIN.xls\n",
      "Archivo descargado: Precio_Bolsa_Nacional_($kwh).xls\n",
      "Archivo descargado: Reservas_Diario_2021.xlsx\n",
      "Archivo descargado: Generacion_de_Seguridad_(kWh).xlsx\n",
      "Archivo descargado: Vertimentos_Diario_2021.xls\n"
     ]
    }
   ],
   "source": [
    "for link_pre_name in links_pre_names:\n",
    "    descarga(link_pre_name[1],link_pre_name[2])"
   ]
  },
  {
   "cell_type": "markdown",
   "metadata": {},
   "source": [
    "## 3) Identificación de fechas y creación de nombres de archivos descargados"
   ]
  },
  {
   "cell_type": "markdown",
   "metadata": {},
   "source": [
    "Importamos la librería Pandas"
   ]
  },
  {
   "cell_type": "code",
   "execution_count": 10,
   "metadata": {},
   "outputs": [],
   "source": [
    "import pandas\n",
    "pd = pandas"
   ]
  },
  {
   "cell_type": "markdown",
   "metadata": {},
   "source": [
    "Obtenemos las fechas de cada uno de los archivos"
   ]
  },
  {
   "cell_type": "code",
   "execution_count": 11,
   "metadata": {},
   "outputs": [
    {
     "name": "stdout",
     "output_type": "stream",
     "text": [
      "Nombres de archivos definitivos:\n",
      "1 - Generación --> 2021_09_05_Generacion_(kWh)_2021.xlsx\n",
      "2 - Intercambio con Ecuador --> 2021_09_05_Exportacion_Importacion_Ecuador_2021.xlsx\n",
      "3 - Intercambio con Venezuela --> 2021_01_01_Exportacion_Importacion_Venezuela_2021.xlsx\n",
      "4 - Consumo de combustible --> 2021_09_05_Consumo_De_Combustible_(MBTU)_2021.xlsx\n",
      "5 - Demanda Comercial --> 2021_09_05_Demanda_Comercial_(kWh)_SEME2_2021.xlsx\n",
      "6 - Aportes Diarios --> 2021_09_06_Aportes_Diario_2021.xlsx\n",
      "7 - Demanda SIN --> 2021_09_05_Demanda_Energia_SIN.xls\n",
      "8 - Precio de Bolsa --> 2021_09_05_Precio_Bolsa_Nacional_($kwh).xls\n",
      "9 - Reservas Diario --> 2021_09_06_Reservas_Diario_2021.xlsx\n",
      "10 - Generación Seguridad --> 2021_09_05_Generacion_de_Seguridad_(kWh).xlsx\n",
      "11 - Vertimientos Diario --> 2021_09_05_Vertimentos_Diario_2021.xls\n"
     ]
    }
   ],
   "source": [
    "names = {}\n",
    "for pre_name in pre_names:\n",
    "    if pre_name == \"Generación\" or pre_name == \"Demanda Comercial\" or pre_name == \"Precio de Bolsa\" or pre_name == \"Generación Seguridad\":\n",
    "        try:\n",
    "            fecha = pd.read_excel(pre_names[pre_name],header = 2)['Fecha'].iloc[-1].replace('-','_')\n",
    "            names[pre_name] = fecha + g + pre_names[pre_name]\n",
    "        except:\n",
    "            fecha = year + g + \"01_01\"\n",
    "            names[pre_name] = fecha + g + pre_names[pre_name]            \n",
    "    else:\n",
    "        try:\n",
    "            fecha = pd.read_excel(pre_names[pre_name],header = 3)['Fecha'].iloc[-1].replace('-','_')\n",
    "            names[pre_name] = fecha + g + pre_names[pre_name]\n",
    "        except:\n",
    "            fecha = year + g + \"01_01\"\n",
    "            names[pre_name] = fecha + g + pre_names[pre_name]\n",
    "            \n",
    "i = 1\n",
    "print(\"Nombres de archivos definitivos:\")\n",
    "for name in names:\n",
    "    print(f\"{i} - {name} --> {names[name]}\")\n",
    "    i += 1"
   ]
  },
  {
   "cell_type": "markdown",
   "metadata": {},
   "source": [
    "## 4) Cambio de nombre en archivos descargados"
   ]
  },
  {
   "cell_type": "markdown",
   "metadata": {},
   "source": [
    "Importamos la librería OS"
   ]
  },
  {
   "cell_type": "code",
   "execution_count": 12,
   "metadata": {},
   "outputs": [],
   "source": [
    "import os"
   ]
  },
  {
   "cell_type": "markdown",
   "metadata": {},
   "source": [
    "Creamos una lista de tuplas con los valores de los nombres definitivos y los nombres preliminares (usamos una list comprehension):"
   ]
  },
  {
   "cell_type": "code",
   "execution_count": 13,
   "metadata": {},
   "outputs": [],
   "source": [
    "names_pre_names = [(k, names[k], v) for k, v in pre_names.items()]"
   ]
  },
  {
   "cell_type": "markdown",
   "metadata": {},
   "source": [
    "Iteramos sobre la lista de tuplas y cambiamos el nombre de cada archivo:"
   ]
  },
  {
   "cell_type": "code",
   "execution_count": 14,
   "metadata": {},
   "outputs": [],
   "source": [
    "for name_pre_name in names_pre_names:\n",
    "    os.rename(name_pre_name[2],name_pre_name[1])"
   ]
  },
  {
   "cell_type": "markdown",
   "metadata": {},
   "source": [
    "## 5) Posicionar archivos descargados y renombrados"
   ]
  },
  {
   "cell_type": "markdown",
   "metadata": {},
   "source": [
    "Creamos un diccionario con las carpetas destino del servidor"
   ]
  },
  {
   "cell_type": "code",
   "execution_count": 15,
   "metadata": {},
   "outputs": [
    {
     "name": "stdout",
     "output_type": "stream",
     "text": [
      "Carpetas destino - servidor:\n",
      "1 - Generación --> Generación\n",
      "2 - Intercambio con Ecuador --> Intercambios/Ecuador\n",
      "3 - Intercambio con Venezuela --> Intercambios/Venezuela\n",
      "4 - Consumo de combustible --> Consumo\n",
      "5 - Demanda Comercial --> Demanda_Comercial\n",
      "6 - Aportes Diarios --> Aportes\n",
      "7 - Demanda SIN --> Energía_Demanda\n",
      "8 - Precio de Bolsa --> Bolsa\n",
      "9 - Reservas Diario --> Reservas\n",
      "10 - Generación Seguridad --> Seguridad\n",
      "11 - Vertimientos Diario --> Vertimientos\n"
     ]
    }
   ],
   "source": [
    "dest_folders = {\n",
    "    \"Generación\":\"Generación\",\n",
    "    \"Intercambio con Ecuador\":\"Intercambios/Ecuador\",\n",
    "    \"Intercambio con Venezuela\":\"Intercambios/Venezuela\",\n",
    "    \"Consumo de combustible\":\"Consumo\",\n",
    "    \"Demanda Comercial\":\"Demanda_Comercial\",\n",
    "    \"Aportes Diarios\":\"Aportes\",\n",
    "    \"Demanda SIN\":\"Energía_Demanda\",\n",
    "    \"Precio de Bolsa\":\"Bolsa\",\n",
    "    \"Reservas Diario\":\"Reservas\",\n",
    "    \"Generación Seguridad\":\"Seguridad\",\n",
    "    \"Vertimientos Diario\":\"Vertimientos\"\n",
    "}\n",
    "\n",
    "i = 1\n",
    "print(\"Carpetas destino - servidor:\")\n",
    "for dest_folder in dest_folders:\n",
    "    print(f\"{i} - {dest_folder} --> {dest_folders[dest_folder]}\")\n",
    "    i += 1"
   ]
  },
  {
   "cell_type": "markdown",
   "metadata": {},
   "source": [
    "Importamos la librería Shutil"
   ]
  },
  {
   "cell_type": "code",
   "execution_count": 16,
   "metadata": {},
   "outputs": [],
   "source": [
    "import shutil"
   ]
  },
  {
   "cell_type": "markdown",
   "metadata": {},
   "source": [
    "Definimos una función de movimiento y otra de eliminar"
   ]
  },
  {
   "cell_type": "code",
   "execution_count": 17,
   "metadata": {},
   "outputs": [],
   "source": [
    "def movimiento(file,path):\n",
    "    shutil.move(file,path)\n",
    "    print(\"Archivo movido:\",file)\n",
    "    print(\"Carpeta destino:\",path)\n",
    "    print(\"\")\n",
    "\n",
    "def eliminados(file,path):\n",
    "    try:\n",
    "        movimiento(file,path)\n",
    "    except:\n",
    "        print('Archivo eliminado:',file)\n",
    "        from os import remove\n",
    "        remove(file)\n",
    "        shutil.SameFileError"
   ]
  },
  {
   "cell_type": "markdown",
   "metadata": {},
   "source": [
    "Creamos una lista de tuplas con los valores de los nombres definitivos y las carpetas destino (usamos una list comprehension):"
   ]
  },
  {
   "cell_type": "code",
   "execution_count": 18,
   "metadata": {},
   "outputs": [],
   "source": [
    "names_dest_folders = [(k, names[k], v) for k, v in dest_folders.items()]"
   ]
  },
  {
   "cell_type": "markdown",
   "metadata": {},
   "source": [
    "Iteramos sobre la lista de tuplas y posicionamos cada archivo:"
   ]
  },
  {
   "cell_type": "code",
   "execution_count": 19,
   "metadata": {
    "scrolled": true
   },
   "outputs": [
    {
     "name": "stdout",
     "output_type": "stream",
     "text": [
      "Archivo movido: 2021_09_05_Generacion_(kWh)_2021.xlsx\n",
      "Carpeta destino: Generación\n",
      "\n",
      "Archivo movido: 2021_09_05_Exportacion_Importacion_Ecuador_2021.xlsx\n",
      "Carpeta destino: Intercambios/Ecuador\n",
      "\n",
      "Archivo movido: 2021_01_01_Exportacion_Importacion_Venezuela_2021.xlsx\n",
      "Carpeta destino: Intercambios/Venezuela\n",
      "\n",
      "Archivo movido: 2021_09_05_Consumo_De_Combustible_(MBTU)_2021.xlsx\n",
      "Carpeta destino: Consumo\n",
      "\n",
      "Archivo movido: 2021_09_05_Demanda_Comercial_(kWh)_SEME2_2021.xlsx\n",
      "Carpeta destino: Demanda_Comercial\n",
      "\n",
      "Archivo movido: 2021_09_06_Aportes_Diario_2021.xlsx\n",
      "Carpeta destino: Aportes\n",
      "\n",
      "Archivo movido: 2021_09_05_Demanda_Energia_SIN.xls\n",
      "Carpeta destino: Energía_Demanda\n",
      "\n",
      "Archivo movido: 2021_09_05_Precio_Bolsa_Nacional_($kwh).xls\n",
      "Carpeta destino: Bolsa\n",
      "\n",
      "Archivo movido: 2021_09_06_Reservas_Diario_2021.xlsx\n",
      "Carpeta destino: Reservas\n",
      "\n",
      "Archivo movido: 2021_09_05_Generacion_de_Seguridad_(kWh).xlsx\n",
      "Carpeta destino: Seguridad\n",
      "\n",
      "Archivo movido: 2021_09_05_Vertimentos_Diario_2021.xls\n",
      "Carpeta destino: Vertimientos\n",
      "\n"
     ]
    }
   ],
   "source": [
    "for name_dest_folder in names_dest_folders:\n",
    "    eliminados(name_dest_folder[1],name_dest_folder[2])"
   ]
  }
 ],
 "metadata": {
  "kernelspec": {
   "display_name": "Python 3",
   "language": "python",
   "name": "python3"
  },
  "language_info": {
   "codemirror_mode": {
    "name": "ipython",
    "version": 3
   },
   "file_extension": ".py",
   "mimetype": "text/x-python",
   "name": "python",
   "nbconvert_exporter": "python",
   "pygments_lexer": "ipython3",
   "version": "3.8.8"
  }
 },
 "nbformat": 4,
 "nbformat_minor": 4
}
